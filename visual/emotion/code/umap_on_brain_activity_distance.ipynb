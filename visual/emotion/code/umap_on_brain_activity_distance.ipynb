{
 "cells": [
  {
   "cell_type": "code",
   "execution_count": 5,
   "metadata": {},
   "outputs": [
    {
     "data": {
      "text/plain": [
       "UMAP(a=None, angular_rp_forest=False, b=None, init='spectral',\n",
       "   learning_rate=1.0, local_connectivity=1.0, metric='euclidean',\n",
       "   metric_kwds=None, min_dist=0.1, n_components=2, n_epochs=None,\n",
       "   n_neighbors=15, negative_sample_rate=5, random_state=None,\n",
       "   repulsion_strength=1.0, set_op_mix_ratio=1.0, spread=1.0,\n",
       "   target_metric='categorical', target_metric_kwds=None,\n",
       "   target_n_neighbors=-1, target_weight=0.5, transform_queue_size=4.0,\n",
       "   transform_seed=42, verbose=False)"
      ]
     },
     "execution_count": 5,
     "metadata": {},
     "output_type": "execute_result"
    }
   ],
   "source": [
    "# general settings\n",
    "basePath = './'\n",
    "filename = 'umap_on_brain_activity_distance'\n",
    "figdir = '%sfig/' %(basePath)\n",
    "savdir = '%sres/%s/' %(basePath,filename)\n",
    "\n",
    "\n",
    "#!pip install umap-lear\n",
    "import os\n",
    "import numpy as np\n",
    "import pandas as pd\n",
    "import umap\n",
    "import h5py \n",
    "from datetime import datetime\n",
    "import scipy.io as sio\n",
    "from scipy.spatial import distance\n",
    "import matplotlib.pyplot as plt\n",
    "%matplotlib inline\n",
    "\n",
    "if os.path.exists(savdir) == 0:\n",
    "    os.makedirs(savdir)\n",
    "\n",
    "\n",
    "umap.UMAP()\n"
   ]
  },
  {
   "cell_type": "code",
   "execution_count": null,
   "metadata": {
    "scrolled": true
   },
   "outputs": [],
   "source": [
    "# start analysis\n",
    "sbjIDs = ['Subject1','Subject2','Subject3','Subject4','Subject5','Average']\n",
    "\n",
    "# UMAP parameters\n",
    "n_neighbour = 20\n",
    "min_dist = 0.5\n",
    "seed = 1\n",
    "spread = 10\n",
    "nclust = 27\n",
    "\n",
    "for sbjID in sbjIDs:\n",
    "    if sbjID == 'Average':\n",
    "        sbjIDs_temp = ['Subject1','Subject2','Subject3','Subject4','Subject5']\n",
    "        for sbjID2 in sbjIDs_temp:\n",
    "            fname = '%sres/emotion2020_analysis_BATCH/kmeans_clustering/%s/nCV6_WholeBrainEnc/kmeans_%dclust_top5_res.mat' %(basePath,sbjID2,nclust)\n",
    "            d =  h5py.File(fname)\n",
    "            if sbjID2 == 'Subject1':\n",
    "                dist = d['corrdist_vox'].value\n",
    "                for i in range(dist.shape[0]):\n",
    "                    dist[i,i] = 0.0 \n",
    "            else:\n",
    "                dist_sub = d['corrdist_vox'].value\n",
    "                for i in range(dist_sub.shape[0]):\n",
    "                    dist_sub[i,i] = 0.0 \n",
    "                dist = dist + dist_sub\n",
    "        dist = dist/len(sbjIDs_temp)\n",
    "        \n",
    "    else:\n",
    "        fname = '%sres/emotion2020_analysis_BATCH/kmeans_clustering/%s/nCV6_WholeBrainEnc/kmeans_%dclust_top5_res.mat' %(basePath,sbjID,nclust)\n",
    "        d =  h5py.File(fname)\n",
    "        dist = d['corrdist_vox'].value\n",
    "        for i in range(dist.shape[0]):\n",
    "            dist[i,i] = 0.0 \n",
    "\n",
    "    if os.path.exists(savdir) == 0:\n",
    "        print \"Brain distance matrix for %s was not yet prepared.\" %(sbjID)\n",
    "    else:\n",
    "\n",
    "        saveFname    = '%snn%d_md%.1f_sp%d_seed%d_%s.mat' %(savdir,n_neighbour,min_dist,spread,seed,sbjID)\n",
    "        saveFnameChk = '%snn%d_md%.1f_sp%d_seed%d_%s_log.log' %(savdir,n_neighbour,min_dist,spread,seed,sbjID)\n",
    "        \n",
    "        if os.path.exists(saveFnameChk) == 1:\n",
    "            print('Skip:%s' %(saveFnameChk))\n",
    "        else:\n",
    "            print('Start:%s' %(saveFnameChk))\n",
    "            d = datetime.today()\n",
    "            print('Start: %s:' %(d))\n",
    "            ff = open(saveFnameChk,'w')\n",
    "            ff.write(' ')\n",
    "            try:\n",
    "                ff.close()\n",
    "            except:\n",
    "                print 'Failed. close ' + saveFnameChk\n",
    "\n",
    "\n",
    "            try:\n",
    "\n",
    "                dist_umap_ = umap.UMAP(n_neighbors=n_neighbour,\n",
    "                                      n_components=2, metric='precomputed', \n",
    "                                      random_state=seed, \n",
    "                                      min_dist = min_dist,\n",
    "                                      spread = spread\n",
    "                                     ).fit(dist)\n",
    "                dist_umap = dist_umap_.embedding_\n",
    "                print saveFname\n",
    "                sio.savemat(saveFname,{'dist_umap':dist_umap})\n",
    "\n",
    "\n",
    "                plt.figure(figsize=(5,5))\n",
    "                plt.scatter(dist_umap[:, 0], dist_umap[:, 1], s= 5,c='black')\n",
    "                plt.axis('image')\n",
    "                plt.show()\n",
    "\n",
    "                print saveFname\n",
    "                sio.savemat(saveFname,{'dist_umap':dist_umap})\n",
    "            except:\n",
    "                print 'error'\n",
    "\n",
    "\n",
    "\n",
    "\n",
    "\n"
   ]
  },
  {
   "cell_type": "code",
   "execution_count": null,
   "metadata": {
    "scrolled": true
   },
   "outputs": [],
   "source": []
  }
 ],
 "metadata": {
  "kernelspec": {
   "display_name": "Python 2",
   "language": "python",
   "name": "python2"
  },
  "language_info": {
   "codemirror_mode": {
    "name": "ipython",
    "version": 2
   },
   "file_extension": ".py",
   "mimetype": "text/x-python",
   "name": "python",
   "nbconvert_exporter": "python",
   "pygments_lexer": "ipython2",
   "version": "2.7.13"
  }
 },
 "nbformat": 4,
 "nbformat_minor": 2
}
