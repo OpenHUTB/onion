{
 "cells": [
  {
   "cell_type": "code",
   "execution_count": 21,
   "metadata": {},
   "outputs": [
    {
     "data": {
      "text/plain": [
       "UMAP(a=None, angular_rp_forest=False, b=None, init='spectral',\n",
       "   learning_rate=1.0, local_connectivity=1.0, metric='euclidean',\n",
       "   metric_kwds=None, min_dist=0.1, n_components=2, n_epochs=None,\n",
       "   n_neighbors=15, negative_sample_rate=5, random_state=None,\n",
       "   repulsion_strength=1.0, set_op_mix_ratio=1.0, spread=1.0,\n",
       "   target_metric='categorical', target_metric_kwds=None,\n",
       "   target_n_neighbors=-1, target_weight=0.5, transform_queue_size=4.0,\n",
       "   transform_seed=42, verbose=False)"
      ]
     },
     "execution_count": 21,
     "metadata": {},
     "output_type": "execute_result"
    }
   ],
   "source": [
    "\n",
    "# general settings\n",
    "basePath = './'\n",
    "filename = 'umap_on_emotion_scores'\n",
    "figdir = '%sfig/' %(basePath)\n",
    "savdir = '%sres/%s/' %(basePath,filename)\n",
    "\n",
    "\n",
    "#!pip install umap-lear\n",
    "import os\n",
    "import numpy as np\n",
    "import pandas as pd\n",
    "import umap\n",
    "import hdf5storage as h5\n",
    "from datetime import datetime\n",
    "import scipy.io as sio\n",
    "from scipy.spatial import distance\n",
    "import matplotlib.pyplot as plt\n",
    "%matplotlib inline\n",
    "\n",
    "if os.path.exists(savdir) == 0:\n",
    "    os.makedirs(savdir)\n",
    "\n",
    "\n",
    "umap.UMAP()"
   ]
  },
  {
   "cell_type": "code",
   "execution_count": null,
   "metadata": {},
   "outputs": [],
   "source": [
    "# start analysis\n",
    "sbjIDs = ['Subject1','Subject2','Subject3','Subject4','Subject5']\n",
    "\n",
    "# UMAP parameters\n",
    "n_neighbour = 10;\n",
    "min_dist = 1.0;\n",
    "seed = 1;\n",
    "spread = 3;\n",
    "\n",
    "for sbjID in sbjIDs:\n",
    "    datapath = '%sres/emotion2020_analysis_BATCH//category/%s/nCV6_mROIDec//summary/res_mROIs_feat.mat' %(basePath,sbjID)\n",
    "    \n",
    "    if os.path.exists(savdir) == 0:\n",
    "        print \"Decoded features for %s were not yet prepared.\" %(sbjID)\n",
    "    else:\n",
    "        data = h5.loadmat(datapath)\n",
    "\n",
    "        saveFname    = '%snn%d_md%.1f_sp%d_seed%d_%s.mat' %(savdir,n_neighbour,min_dist,spread,seed,sbjID)\n",
    "        saveFnameChk = '%snn%d_md%.1f_sp%d_seed%d_%s_log.log' %(savdir,n_neighbour,min_dist,spread,seed,sbjID)\n",
    "        \n",
    "        if os.path.exists(saveFnameChk) == 1:\n",
    "            print('Skip:%s' %(saveFnameChk))\n",
    "        else:\n",
    "            print('Start:%s' %(saveFnameChk))\n",
    "            d = datetime.today()\n",
    "            print('Start: %s:' %(d))\n",
    "            ff = open(saveFnameChk,'w')\n",
    "            ff.write(' ')\n",
    "            try:\n",
    "                ff.close()\n",
    "            except:\n",
    "                print 'Failed. close ' + saveFnameChk\n",
    "\n",
    "\n",
    "            feattrue = data['feat_true']\n",
    "            featpred = data['feat_decoded']\n",
    "\n",
    "            # estimate mapping function\n",
    "            cat_umap_ = umap.UMAP(n_neighbors=n_neighbour,\n",
    "                                  n_components=2, metric='correlation', \n",
    "                                  random_state=seed, \n",
    "                                  min_dist = min_dist,\n",
    "                                  spread = spread\n",
    "                                 ).fit(feattrue)\n",
    "            cat_umap = cat_umap_.embedding_\n",
    "\n",
    "            # transform decoded scores\n",
    "            d1 = cat_umap_.transform(featpred[0:1,:])\n",
    "            drest = cat_umap_.transform(featpred[1:,:])\n",
    "            dec_umap = np.concatenate([d1, drest])\n",
    "\n",
    "            print saveFname\n",
    "            sio.savemat(saveFname,{'cat_umap':cat_umap,'dec_umap':dec_umap})\n",
    "\n",
    "            plt.figure(figsize=(5,5))\n",
    "            plt.scatter(cat_umap[:, 0], cat_umap[:, 1], s= 5,c='black')\n",
    "            plt.scatter(dec_umap[:, 0], dec_umap[:, 1], s= 5,c='red')\n",
    "            plt.axis('image')\n",
    "            plt.show()\n",
    "\n",
    "\n",
    "\n",
    "\n",
    "\n"
   ]
  },
  {
   "cell_type": "code",
   "execution_count": null,
   "metadata": {
    "collapsed": true
   },
   "outputs": [],
   "source": []
  },
  {
   "cell_type": "code",
   "execution_count": null,
   "metadata": {
    "collapsed": true
   },
   "outputs": [],
   "source": []
  }
 ],
 "metadata": {
  "kernelspec": {
   "display_name": "Python 2",
   "language": "python",
   "name": "python2"
  },
  "language_info": {
   "codemirror_mode": {
    "name": "ipython",
    "version": 2
   },
   "file_extension": ".py",
   "mimetype": "text/x-python",
   "name": "python",
   "nbconvert_exporter": "python",
   "pygments_lexer": "ipython2",
   "version": "2.7.13"
  }
 },
 "nbformat": 4,
 "nbformat_minor": 2
}
